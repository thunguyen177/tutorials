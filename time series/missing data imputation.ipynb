{
  "nbformat": 4,
  "nbformat_minor": 0,
  "metadata": {
    "colab": {
      "name": "tutorial missing data imputation.ipynb",
      "provenance": [],
      "collapsed_sections": [],
      "include_colab_link": true
    },
    "kernelspec": {
      "display_name": "Python 3",
      "language": "python",
      "name": "python3"
    },
    "language_info": {
      "codemirror_mode": {
        "name": "ipython",
        "version": 3
      },
      "file_extension": ".py",
      "mimetype": "text/x-python",
      "name": "python",
      "nbconvert_exporter": "python",
      "pygments_lexer": "ipython3",
      "version": "3.8.3"
    }
  },
  "cells": [
    {
      "cell_type": "markdown",
      "metadata": {
        "id": "view-in-github",
        "colab_type": "text"
      },
      "source": [
        "<a href=\"https://colab.research.google.com/github/thunguyen177/tutorials/blob/main/missing%20data%20imputation.ipynb\" target=\"_parent\"><img src=\"https://colab.research.google.com/assets/colab-badge.svg\" alt=\"Open In Colab\"/></a>"
      ]
    },
    {
      "cell_type": "markdown",
      "metadata": {
        "id": "01Q1wGI3uIdg"
      },
      "source": [
        "## libraries and function \n"
      ]
    },
    {
      "cell_type": "code",
      "metadata": {
        "id": "iEdO9dJPION8"
      },
      "source": [
        "# !pip install impyute\n",
        "from sklearn import datasets\n",
        "from sklearn.preprocessing import LabelEncoder, StandardScaler\n",
        "from sklearn.experimental import enable_iterative_imputer\n",
        "from sklearn.impute import IterativeImputer\n",
        "from scipy import stats\n",
        "import numpy as np\n",
        "# import impyute as impy\n",
        "# from fancyimpute import IterativeSVD, SoftImpute, NuclearNormMinimization\n",
        "import pandas as pd\n",
        "import time"
      ],
      "execution_count": 2,
      "outputs": []
    },
    {
      "cell_type": "code",
      "source": [
        "Xstar = np.array([[168, 30, 200],[200, 45, 300], [180, 90, np.nan], [129, 70, np.nan]])\n",
        "Xstar"
      ],
      "metadata": {
        "colab": {
          "base_uri": "https://localhost:8080/"
        },
        "id": "dSe_PX-rMw-D",
        "outputId": "7640b321-7b8a-4e02-fd4d-05349638cf07"
      },
      "execution_count": null,
      "outputs": [
        {
          "output_type": "execute_result",
          "data": {
            "text/plain": [
              "array([[168.,  30., 200.],\n",
              "       [200.,  45., 300.],\n",
              "       [180.,  90.,  nan],\n",
              "       [129.,  70.,  nan]])"
            ]
          },
          "metadata": {},
          "execution_count": 6
        }
      ]
    },
    {
      "cell_type": "code",
      "source": [
        "import numpy as np\n",
        "from sklearn.impute import SimpleImputer\n",
        "\n",
        "imputer = SimpleImputer(missing_values=np.nan, strategy='mean')\n",
        "imputer.fit(Xstar)\n",
        "print(imputer.transform(Xstar))"
      ],
      "metadata": {
        "colab": {
          "base_uri": "https://localhost:8080/"
        },
        "id": "evPQ5OUAQvzj",
        "outputId": "c0e3d10d-e400-4458-e53b-f7b30e58e6c2"
      },
      "execution_count": null,
      "outputs": [
        {
          "output_type": "stream",
          "name": "stdout",
          "text": [
            "[[168.  30. 200.]\n",
            " [200.  45. 300.]\n",
            " [180.  90. 250.]\n",
            " [129.  70. 250.]]\n"
          ]
        }
      ]
    },
    {
      "cell_type": "code",
      "source": [
        "imputer = SimpleImputer(missing_values=np.nan, strategy='mean')\n",
        "imputer.fit_transform(Xstar)"
      ],
      "metadata": {
        "colab": {
          "base_uri": "https://localhost:8080/"
        },
        "id": "DZ3uS4myQ9Oi",
        "outputId": "8a8b6b3d-6133-4c05-a4d9-34f3c3fe6cdc"
      },
      "execution_count": null,
      "outputs": [
        {
          "output_type": "execute_result",
          "data": {
            "text/plain": [
              "array([[168.,  30., 200.],\n",
              "       [200.,  45., 300.],\n",
              "       [180.,  90., 250.],\n",
              "       [129.,  70., 250.]])"
            ]
          },
          "metadata": {},
          "execution_count": 26
        }
      ]
    },
    {
      "cell_type": "code",
      "source": [
        "imputer = SimpleImputer(missing_values=np.nan, strategy='median')\n",
        "imputer.fit_transform(Xstar)"
      ],
      "metadata": {
        "colab": {
          "base_uri": "https://localhost:8080/"
        },
        "id": "xWgBYloQREWP",
        "outputId": "3ec9cb58-e055-4194-e70c-bb43c5ecf136"
      },
      "execution_count": null,
      "outputs": [
        {
          "output_type": "execute_result",
          "data": {
            "text/plain": [
              "array([[168.,  30., 200.],\n",
              "       [200.,  45., 300.],\n",
              "       [180.,  90., 250.],\n",
              "       [129.,  70., 250.]])"
            ]
          },
          "metadata": {},
          "execution_count": 28
        }
      ]
    },
    {
      "cell_type": "code",
      "source": [
        "imputer = SimpleImputer(missing_values=np.nan, strategy='most_frequent')\n",
        "imputer.fit_transform(Xstar)"
      ],
      "metadata": {
        "colab": {
          "base_uri": "https://localhost:8080/"
        },
        "id": "JCErDO5vRLte",
        "outputId": "745decac-d7c5-4577-e50f-424590cdda21"
      },
      "execution_count": null,
      "outputs": [
        {
          "output_type": "execute_result",
          "data": {
            "text/plain": [
              "array([[168.,  30., 200.],\n",
              "       [200.,  45., 300.],\n",
              "       [180.,  90., 200.],\n",
              "       [129.,  70., 200.]])"
            ]
          },
          "metadata": {},
          "execution_count": 30
        }
      ]
    },
    {
      "cell_type": "markdown",
      "source": [
        "## Data imputation with fancyimpute package\n",
        "\n",
        "**SoftImpute** paper:     \"Spectral Regularization Algorithms for Learning Large Incomplete Matrices\"    by Mazumder, Hastie, and Tibshirani.\n",
        "\n",
        "**Biscaler**: Iterative estimation of row and column centering/scaling using the algorithm from page 31 of: Matrix Completion and Low-Rank SVD via Fast Alternating Least Squares"
      ],
      "metadata": {
        "id": "n63PzjVJD5z7"
      }
    },
    {
      "cell_type": "code",
      "source": [
        "!pip install fancyimpute\n",
        "from fancyimpute import KNN, NuclearNormMinimization, SoftImpute, BiScaler "
      ],
      "metadata": {
        "id": "YSw4D8rnNGG1"
      },
      "execution_count": null,
      "outputs": []
    },
    {
      "cell_type": "code",
      "source": [
        "X = KNN(k=1).fit_transform(Xstar)\n",
        "print(X,'\\n\\n',Xstar)"
      ],
      "metadata": {
        "colab": {
          "base_uri": "https://localhost:8080/"
        },
        "id": "HStUZJjVNPZa",
        "outputId": "50aae4c4-51a5-403d-e9de-9444d0e69e74"
      },
      "execution_count": null,
      "outputs": [
        {
          "output_type": "stream",
          "name": "stdout",
          "text": [
            "Imputing row 1/4 with 0 missing, elapsed time: 0.001\n",
            "[[168.  30. 200.]\n",
            " [200.  45. 300.]\n",
            " [180.  90. 300.]\n",
            " [129.  70. 200.]] \n",
            "\n",
            " [[168.  30. 200.]\n",
            " [200.  45. 300.]\n",
            " [180.  90.  nan]\n",
            " [129.  70.  nan]]\n"
          ]
        }
      ]
    },
    {
      "cell_type": "code",
      "source": [
        "# induce sparsity using singular value thresholding\n",
        "X_incomplete_normalized = BiScaler().fit_transform(Xstar)\n",
        "X = SoftImpute().fit_transform(X_incomplete_normalized)\n",
        "print(X,'\\n\\n',X_incomplete_normalized)"
      ],
      "metadata": {
        "id": "4LlBzlQBhad7",
        "colab": {
          "base_uri": "https://localhost:8080/"
        },
        "outputId": "b18aa252-d2d4-4169-c7e6-73a8b40af820"
      },
      "execution_count": null,
      "outputs": [
        {
          "output_type": "stream",
          "name": "stdout",
          "text": [
            "[BiScaler] Initial log residual value = 12.065274\n",
            "[BiScaler] Iter 1: log residual = -2.899786, log improvement ratio=14.965060\n",
            "[BiScaler] Iter 2: log residual = -4.226582, log improvement ratio=1.326796\n",
            "[BiScaler] Iter 3: log residual = -4.788862, log improvement ratio=0.562280\n",
            "[BiScaler] Iter 4: log residual = -4.943716, log improvement ratio=0.154854\n",
            "[BiScaler] Iter 5: log residual = -5.003397, log improvement ratio=0.059680\n",
            "[BiScaler] Iter 6: log residual = -5.019292, log improvement ratio=0.015896\n",
            "[BiScaler] Iter 7: log residual = -5.021997, log improvement ratio=0.002705\n",
            "[BiScaler] Iter 8: log residual = -5.019859, log improvement ratio=-0.002139\n",
            "[SoftImpute] Max Singular Value of X_init = 2.663978\n",
            "[SoftImpute] Iter 1: observed MAE=0.021302 rank=2\n",
            "[SoftImpute] Iter 2: observed MAE=0.021302 rank=2\n",
            "[SoftImpute] Iter 3: observed MAE=0.021302 rank=2\n",
            "[SoftImpute] Iter 4: observed MAE=0.021302 rank=2\n",
            "[SoftImpute] Iter 5: observed MAE=0.021302 rank=2\n",
            "[SoftImpute] Iter 6: observed MAE=0.021302 rank=2\n",
            "[SoftImpute] Iter 7: observed MAE=0.021302 rank=2\n",
            "[SoftImpute] Iter 8: observed MAE=0.021302 rank=2\n",
            "[SoftImpute] Iter 9: observed MAE=0.021302 rank=2\n",
            "[SoftImpute] Iter 10: observed MAE=0.021302 rank=2\n",
            "[SoftImpute] Iter 11: observed MAE=0.021302 rank=2\n",
            "[SoftImpute] Iter 12: observed MAE=0.021302 rank=2\n",
            "[SoftImpute] Iter 13: observed MAE=0.021302 rank=2\n",
            "[SoftImpute] Iter 14: observed MAE=0.021302 rank=2\n",
            "[SoftImpute] Iter 15: observed MAE=0.021302 rank=2\n",
            "[SoftImpute] Iter 16: observed MAE=0.021302 rank=2\n",
            "[SoftImpute] Stopped after iteration 16 for lambda=0.053280\n",
            "[[ 1.36787129e+00 -4.21574305e-01 -9.95834370e-01]\n",
            " [ 4.09493875e-01 -1.36393813e+00  1.00414835e+00]\n",
            " [-9.89736595e-01  9.90965859e-01 -1.01891138e-03]\n",
            " [-9.90789777e-01  9.89916438e-01  9.82403355e-04]] \n",
            "\n",
            " [[ 1.36787129 -0.42157431 -0.99583437]\n",
            " [ 0.40949388 -1.36393813  1.00414835]\n",
            " [-0.98973659  0.99096586         nan]\n",
            " [-0.99078978  0.98991644         nan]]\n"
          ]
        }
      ]
    },
    {
      "cell_type": "code",
      "metadata": {
        "id": "uMQE45kTe5pB",
        "colab": {
          "base_uri": "https://localhost:8080/"
        },
        "outputId": "57e08059-abb3-412d-d9a1-079595e4825b"
      },
      "source": [
        "# induce sparsity using singular value thresholding\n",
        "X = SoftImpute(verbose = False).fit_transform(Xstar)\n",
        "print(X,'\\n\\n',Xstar)"
      ],
      "execution_count": null,
      "outputs": [
        {
          "output_type": "stream",
          "name": "stdout",
          "text": [
            "[[168.          30.         200.        ]\n",
            " [200.          45.         300.        ]\n",
            " [180.          90.         134.17830118]\n",
            " [129.          70.          90.70721687]] \n",
            "\n",
            " [[168.  30. 200.]\n",
            " [200.  45. 300.]\n",
            " [180.  90.  nan]\n",
            " [129.  70.  nan]]\n"
          ]
        }
      ]
    },
    {
      "cell_type": "markdown",
      "source": [
        "## MissForest\n",
        "Stekhoven, Daniel J., and Peter Bühlmann. \"MissForest—non-parametric missing value imputation for mixed-type data.\" Bioinformatics 28.1 (2011): 112-118."
      ],
      "metadata": {
        "id": "lvFpgs5bODsI"
      }
    },
    {
      "cell_type": "code",
      "source": [
        "!pip install missingpy\n",
        "# if ModuleNotFoundError: No module named 'sklearn.neighbors.base', use the following 3 lines\n",
        "import sys\n",
        "import sklearn.neighbors._base\n",
        "sys.modules['sklearn.neighbors.base'] = sklearn.neighbors._base\n",
        "\n",
        "from missingpy import MissForest\n",
        "# note that MissForest uses sklearn.__version__ 0.22.2.post1\n"
      ],
      "metadata": {
        "colab": {
          "base_uri": "https://localhost:8080/"
        },
        "id": "KYKVcpuCNvgX",
        "outputId": "1139b2d1-3d66-4446-9060-72a445f761af"
      },
      "execution_count": 19,
      "outputs": [
        {
          "output_type": "stream",
          "name": "stdout",
          "text": [
            "Looking in indexes: https://pypi.org/simple, https://us-python.pkg.dev/colab-wheels/public/simple/\n",
            "Collecting missingpy\n",
            "  Downloading missingpy-0.2.0-py3-none-any.whl (49 kB)\n",
            "\u001b[K     |████████████████████████████████| 49 kB 2.6 MB/s \n",
            "\u001b[?25hInstalling collected packages: missingpy\n",
            "Successfully installed missingpy-0.2.0\n"
          ]
        }
      ]
    },
    {
      "cell_type": "code",
      "source": [
        "X = MissForest(random_state=0).fit_transform(Xstar)\n",
        "print(X,'\\n\\n',Xstar)"
      ],
      "metadata": {
        "colab": {
          "base_uri": "https://localhost:8080/"
        },
        "id": "H8ENZCtHOh_g",
        "outputId": "8c32c006-0a28-4139-813b-5282ec5d68cf"
      },
      "execution_count": null,
      "outputs": [
        {
          "output_type": "stream",
          "name": "stderr",
          "text": [
            "/usr/local/lib/python3.7/dist-packages/sklearn/ensemble/_forest.py:400: FutureWarning: Criterion 'mse' was deprecated in v1.0 and will be removed in version 1.2. Use `criterion='squared_error'` which is equivalent.\n",
            "  FutureWarning,\n"
          ]
        },
        {
          "output_type": "stream",
          "name": "stdout",
          "text": [
            "Iteration: 0\n"
          ]
        },
        {
          "output_type": "stream",
          "name": "stderr",
          "text": [
            "/usr/local/lib/python3.7/dist-packages/sklearn/ensemble/_forest.py:400: FutureWarning: Criterion 'mse' was deprecated in v1.0 and will be removed in version 1.2. Use `criterion='squared_error'` which is equivalent.\n",
            "  FutureWarning,\n"
          ]
        },
        {
          "output_type": "stream",
          "name": "stdout",
          "text": [
            "Iteration: 1\n",
            "[[168.  30. 200.]\n",
            " [200.  45. 300.]\n",
            " [180.  90. 250.]\n",
            " [129.  70. 250.]] \n",
            "\n",
            " [[168.  30. 200.]\n",
            " [200.  45. 300.]\n",
            " [180.  90.  nan]\n",
            " [129.  70.  nan]]\n"
          ]
        }
      ]
    },
    {
      "cell_type": "code",
      "source": [
        "imputer = MissForest(random_state=0)\n",
        "imputer.fit(Xstar)\n",
        "X = imputer.transform(Xstar)\n",
        "print(X,'\\n\\n',Xstar)"
      ],
      "metadata": {
        "colab": {
          "base_uri": "https://localhost:8080/"
        },
        "id": "Z-wCXC6zP5kb",
        "outputId": "2a68e66f-820b-40f5-fe02-8d2c8452f999"
      },
      "execution_count": null,
      "outputs": [
        {
          "output_type": "stream",
          "name": "stderr",
          "text": [
            "/usr/local/lib/python3.7/dist-packages/sklearn/ensemble/_forest.py:400: FutureWarning: Criterion 'mse' was deprecated in v1.0 and will be removed in version 1.2. Use `criterion='squared_error'` which is equivalent.\n",
            "  FutureWarning,\n"
          ]
        },
        {
          "output_type": "stream",
          "name": "stdout",
          "text": [
            "Iteration: 0\n"
          ]
        },
        {
          "output_type": "stream",
          "name": "stderr",
          "text": [
            "/usr/local/lib/python3.7/dist-packages/sklearn/ensemble/_forest.py:400: FutureWarning: Criterion 'mse' was deprecated in v1.0 and will be removed in version 1.2. Use `criterion='squared_error'` which is equivalent.\n",
            "  FutureWarning,\n"
          ]
        },
        {
          "output_type": "stream",
          "name": "stdout",
          "text": [
            "Iteration: 1\n",
            "[[168.  30. 200.]\n",
            " [200.  45. 300.]\n",
            " [180.  90. 250.]\n",
            " [129.  70. 250.]] \n",
            "\n",
            " [[168.  30. 200.]\n",
            " [200.  45. 300.]\n",
            " [180.  90.  nan]\n",
            " [129.  70.  nan]]\n"
          ]
        }
      ]
    },
    {
      "cell_type": "markdown",
      "source": [
        "# Categorical missing data "
      ],
      "metadata": {
        "id": "uPDrlGMwQdnA"
      }
    },
    {
      "cell_type": "code",
      "source": [
        "def generate_nan(Xtrain, missing_rate):\n",
        "  Xshape = Xtrain.shape\n",
        "  na_id = np.random.randint(0,Xtrain.size,round(missing_rate*Xtrain.size))\n",
        "  Xtr_nan = Xtrain.flatten()\n",
        "  Xtr_nan[na_id] = np.nan \n",
        "  return Xtr_nan.reshape(Xshape)\n",
        "\n",
        "def generate_nan_col(X, non_missing_cols = None, missing_rate = 0.2):\n",
        "    X_non_missing = X[:, non_missing_cols]\n",
        "    X_missing = X[:, [i for i in range(X.shape[1]) if i not in non_missing_cols]]\n",
        "    XmShape = X_missing.shape\n",
        "    na_id = np.random.randint(0, X_missing.size, round(missing_rate * X_missing.size))\n",
        "    X_nan = X_missing.flatten()\n",
        "    X_nan[na_id] = np.nan\n",
        "    X_nan = X_nan.reshape(XmShape)\n",
        "    X_nan = np.hstack((X_non_missing, X_nan))\n",
        "    return X_nan  "
      ],
      "metadata": {
        "id": "xA8FrzJ8RkvR"
      },
      "execution_count": 39,
      "outputs": []
    },
    {
      "cell_type": "code",
      "source": [
        "data = pd.read_csv('https://archive.ics.uci.edu/ml/machine-learning-databases/cmc/cmc.data',\n",
        "                  sep = \",\", header = None)\n",
        "data.head()"
      ],
      "metadata": {
        "colab": {
          "base_uri": "https://localhost:8080/",
          "height": 206
        },
        "id": "yYhCnB3XM9zg",
        "outputId": "7372d33f-67fb-4d11-93b1-1f0b6d1211e4"
      },
      "execution_count": 34,
      "outputs": [
        {
          "output_type": "execute_result",
          "data": {
            "text/plain": [
              "    0  1  2   3  4  5  6  7  8  9\n",
              "0  24  2  3   3  1  1  2  3  0  1\n",
              "1  45  1  3  10  1  1  3  4  0  1\n",
              "2  43  2  3   7  1  1  3  4  0  1\n",
              "3  42  3  2   9  1  1  3  3  0  1\n",
              "4  36  3  3   8  1  1  3  2  0  1"
            ],
            "text/html": [
              "\n",
              "  <div id=\"df-2aadfc22-5c20-4112-8d39-d12e8158ba5f\">\n",
              "    <div class=\"colab-df-container\">\n",
              "      <div>\n",
              "<style scoped>\n",
              "    .dataframe tbody tr th:only-of-type {\n",
              "        vertical-align: middle;\n",
              "    }\n",
              "\n",
              "    .dataframe tbody tr th {\n",
              "        vertical-align: top;\n",
              "    }\n",
              "\n",
              "    .dataframe thead th {\n",
              "        text-align: right;\n",
              "    }\n",
              "</style>\n",
              "<table border=\"1\" class=\"dataframe\">\n",
              "  <thead>\n",
              "    <tr style=\"text-align: right;\">\n",
              "      <th></th>\n",
              "      <th>0</th>\n",
              "      <th>1</th>\n",
              "      <th>2</th>\n",
              "      <th>3</th>\n",
              "      <th>4</th>\n",
              "      <th>5</th>\n",
              "      <th>6</th>\n",
              "      <th>7</th>\n",
              "      <th>8</th>\n",
              "      <th>9</th>\n",
              "    </tr>\n",
              "  </thead>\n",
              "  <tbody>\n",
              "    <tr>\n",
              "      <th>0</th>\n",
              "      <td>24</td>\n",
              "      <td>2</td>\n",
              "      <td>3</td>\n",
              "      <td>3</td>\n",
              "      <td>1</td>\n",
              "      <td>1</td>\n",
              "      <td>2</td>\n",
              "      <td>3</td>\n",
              "      <td>0</td>\n",
              "      <td>1</td>\n",
              "    </tr>\n",
              "    <tr>\n",
              "      <th>1</th>\n",
              "      <td>45</td>\n",
              "      <td>1</td>\n",
              "      <td>3</td>\n",
              "      <td>10</td>\n",
              "      <td>1</td>\n",
              "      <td>1</td>\n",
              "      <td>3</td>\n",
              "      <td>4</td>\n",
              "      <td>0</td>\n",
              "      <td>1</td>\n",
              "    </tr>\n",
              "    <tr>\n",
              "      <th>2</th>\n",
              "      <td>43</td>\n",
              "      <td>2</td>\n",
              "      <td>3</td>\n",
              "      <td>7</td>\n",
              "      <td>1</td>\n",
              "      <td>1</td>\n",
              "      <td>3</td>\n",
              "      <td>4</td>\n",
              "      <td>0</td>\n",
              "      <td>1</td>\n",
              "    </tr>\n",
              "    <tr>\n",
              "      <th>3</th>\n",
              "      <td>42</td>\n",
              "      <td>3</td>\n",
              "      <td>2</td>\n",
              "      <td>9</td>\n",
              "      <td>1</td>\n",
              "      <td>1</td>\n",
              "      <td>3</td>\n",
              "      <td>3</td>\n",
              "      <td>0</td>\n",
              "      <td>1</td>\n",
              "    </tr>\n",
              "    <tr>\n",
              "      <th>4</th>\n",
              "      <td>36</td>\n",
              "      <td>3</td>\n",
              "      <td>3</td>\n",
              "      <td>8</td>\n",
              "      <td>1</td>\n",
              "      <td>1</td>\n",
              "      <td>3</td>\n",
              "      <td>2</td>\n",
              "      <td>0</td>\n",
              "      <td>1</td>\n",
              "    </tr>\n",
              "  </tbody>\n",
              "</table>\n",
              "</div>\n",
              "      <button class=\"colab-df-convert\" onclick=\"convertToInteractive('df-2aadfc22-5c20-4112-8d39-d12e8158ba5f')\"\n",
              "              title=\"Convert this dataframe to an interactive table.\"\n",
              "              style=\"display:none;\">\n",
              "        \n",
              "  <svg xmlns=\"http://www.w3.org/2000/svg\" height=\"24px\"viewBox=\"0 0 24 24\"\n",
              "       width=\"24px\">\n",
              "    <path d=\"M0 0h24v24H0V0z\" fill=\"none\"/>\n",
              "    <path d=\"M18.56 5.44l.94 2.06.94-2.06 2.06-.94-2.06-.94-.94-2.06-.94 2.06-2.06.94zm-11 1L8.5 8.5l.94-2.06 2.06-.94-2.06-.94L8.5 2.5l-.94 2.06-2.06.94zm10 10l.94 2.06.94-2.06 2.06-.94-2.06-.94-.94-2.06-.94 2.06-2.06.94z\"/><path d=\"M17.41 7.96l-1.37-1.37c-.4-.4-.92-.59-1.43-.59-.52 0-1.04.2-1.43.59L10.3 9.45l-7.72 7.72c-.78.78-.78 2.05 0 2.83L4 21.41c.39.39.9.59 1.41.59.51 0 1.02-.2 1.41-.59l7.78-7.78 2.81-2.81c.8-.78.8-2.07 0-2.86zM5.41 20L4 18.59l7.72-7.72 1.47 1.35L5.41 20z\"/>\n",
              "  </svg>\n",
              "      </button>\n",
              "      \n",
              "  <style>\n",
              "    .colab-df-container {\n",
              "      display:flex;\n",
              "      flex-wrap:wrap;\n",
              "      gap: 12px;\n",
              "    }\n",
              "\n",
              "    .colab-df-convert {\n",
              "      background-color: #E8F0FE;\n",
              "      border: none;\n",
              "      border-radius: 50%;\n",
              "      cursor: pointer;\n",
              "      display: none;\n",
              "      fill: #1967D2;\n",
              "      height: 32px;\n",
              "      padding: 0 0 0 0;\n",
              "      width: 32px;\n",
              "    }\n",
              "\n",
              "    .colab-df-convert:hover {\n",
              "      background-color: #E2EBFA;\n",
              "      box-shadow: 0px 1px 2px rgba(60, 64, 67, 0.3), 0px 1px 3px 1px rgba(60, 64, 67, 0.15);\n",
              "      fill: #174EA6;\n",
              "    }\n",
              "\n",
              "    [theme=dark] .colab-df-convert {\n",
              "      background-color: #3B4455;\n",
              "      fill: #D2E3FC;\n",
              "    }\n",
              "\n",
              "    [theme=dark] .colab-df-convert:hover {\n",
              "      background-color: #434B5C;\n",
              "      box-shadow: 0px 1px 3px 1px rgba(0, 0, 0, 0.15);\n",
              "      filter: drop-shadow(0px 1px 2px rgba(0, 0, 0, 0.3));\n",
              "      fill: #FFFFFF;\n",
              "    }\n",
              "  </style>\n",
              "\n",
              "      <script>\n",
              "        const buttonEl =\n",
              "          document.querySelector('#df-2aadfc22-5c20-4112-8d39-d12e8158ba5f button.colab-df-convert');\n",
              "        buttonEl.style.display =\n",
              "          google.colab.kernel.accessAllowed ? 'block' : 'none';\n",
              "\n",
              "        async function convertToInteractive(key) {\n",
              "          const element = document.querySelector('#df-2aadfc22-5c20-4112-8d39-d12e8158ba5f');\n",
              "          const dataTable =\n",
              "            await google.colab.kernel.invokeFunction('convertToInteractive',\n",
              "                                                     [key], {});\n",
              "          if (!dataTable) return;\n",
              "\n",
              "          const docLinkHtml = 'Like what you see? Visit the ' +\n",
              "            '<a target=\"_blank\" href=https://colab.research.google.com/notebooks/data_table.ipynb>data table notebook</a>'\n",
              "            + ' to learn more about interactive tables.';\n",
              "          element.innerHTML = '';\n",
              "          dataTable['output_type'] = 'display_data';\n",
              "          await google.colab.output.renderOutput(dataTable, element);\n",
              "          const docLink = document.createElement('div');\n",
              "          docLink.innerHTML = docLinkHtml;\n",
              "          element.appendChild(docLink);\n",
              "        }\n",
              "      </script>\n",
              "    </div>\n",
              "  </div>\n",
              "  "
            ]
          },
          "metadata": {},
          "execution_count": 34
        }
      ]
    },
    {
      "cell_type": "code",
      "source": [
        "data = data.to_numpy()\n",
        "X,y = data[:,:9].astype(np.float32),data[:,-1]\n",
        "X[:3]"
      ],
      "metadata": {
        "colab": {
          "base_uri": "https://localhost:8080/"
        },
        "id": "80TnLg0BM_dT",
        "outputId": "2bd712f0-fbee-4ef3-d18c-54d6a2ce380b"
      },
      "execution_count": 35,
      "outputs": [
        {
          "output_type": "execute_result",
          "data": {
            "text/plain": [
              "array([[24.,  2.,  3.,  3.,  1.,  1.,  2.,  3.,  0.],\n",
              "       [45.,  1.,  3., 10.,  1.,  1.,  3.,  4.,  0.],\n",
              "       [43.,  2.,  3.,  7.,  1.,  1.,  3.,  4.,  0.]], dtype=float32)"
            ]
          },
          "metadata": {},
          "execution_count": 35
        }
      ]
    },
    {
      "cell_type": "code",
      "source": [
        "Xstar = generate_nan(X, 0.5)\n",
        "Xstar[:3]"
      ],
      "metadata": {
        "colab": {
          "base_uri": "https://localhost:8080/"
        },
        "id": "wctAVQLINoHX",
        "outputId": "b651568e-4f86-4803-b07d-6422d66783a7"
      },
      "execution_count": 36,
      "outputs": [
        {
          "output_type": "execute_result",
          "data": {
            "text/plain": [
              "array([[nan,  2.,  3., nan, nan, nan,  2.,  3.,  0.],\n",
              "       [nan,  1.,  3., nan,  1.,  1., nan, nan, nan],\n",
              "       [43.,  2.,  3.,  7.,  1., nan, nan,  4.,  0.]], dtype=float32)"
            ]
          },
          "metadata": {},
          "execution_count": 36
        }
      ]
    },
    {
      "cell_type": "markdown",
      "source": [
        "**mode** imputation:"
      ],
      "metadata": {
        "id": "W85RZzyrR3e6"
      }
    },
    {
      "cell_type": "code",
      "source": [
        "from sklearn.impute import SimpleImputer\n",
        "imputer = SimpleImputer(missing_values=np.nan, strategy='most_frequent') \n",
        "imputer.fit_transform(Xstar)"
      ],
      "metadata": {
        "colab": {
          "base_uri": "https://localhost:8080/"
        },
        "id": "RPCevnGvQ061",
        "outputId": "672ba01d-024b-42b7-b476-c371395a7176"
      },
      "execution_count": 37,
      "outputs": [
        {
          "output_type": "execute_result",
          "data": {
            "text/plain": [
              "array([[25.,  2.,  3., ...,  2.,  3.,  0.],\n",
              "       [25.,  1.,  3., ...,  3.,  4.,  0.],\n",
              "       [43.,  2.,  3., ...,  3.,  4.,  0.],\n",
              "       ...,\n",
              "       [25.,  3.,  4., ...,  1.,  4.,  0.],\n",
              "       [33.,  4.,  3., ...,  2.,  2.,  0.],\n",
              "       [25.,  3.,  4., ...,  3.,  4.,  0.]], dtype=float32)"
            ]
          },
          "metadata": {},
          "execution_count": 37
        }
      ]
    },
    {
      "cell_type": "markdown",
      "source": [
        "**logistic regression**"
      ],
      "metadata": {
        "id": "bnA0kcm3R9U-"
      }
    },
    {
      "cell_type": "code",
      "source": [
        "Xstar = generate_nan_col(X, np.arange(5), missing_rate=.3)\n",
        "Xstar[:3]"
      ],
      "metadata": {
        "colab": {
          "base_uri": "https://localhost:8080/"
        },
        "id": "KDStlEayS6nT",
        "outputId": "22ad2899-cb6f-4318-f0cb-2e95fe34f4ef"
      },
      "execution_count": 41,
      "outputs": [
        {
          "output_type": "execute_result",
          "data": {
            "text/plain": [
              "array([[24.,  2.,  3.,  3.,  1., nan,  2., nan,  0.],\n",
              "       [45.,  1.,  3., 10.,  1.,  1., nan,  4.,  0.],\n",
              "       [43.,  2.,  3.,  7.,  1.,  1.,  3., nan, nan]], dtype=float32)"
            ]
          },
          "metadata": {},
          "execution_count": 41
        }
      ]
    },
    {
      "cell_type": "code",
      "source": [
        "from sklearn.linear_model import LogisticRegression\n",
        "ymiss = Xstar[:,5].flatten()\n",
        "non_missing_id = np.where(~np.isnan(ymiss))\n",
        "missing_id = np.where(np.isnan(ymiss))\n",
        "Xinp = Xstar[non_missing_id,:5].reshape((-1,5))\n",
        "clf = LogisticRegression(random_state=0).fit(Xinp, Xstar[non_missing_id,5].flatten())\n",
        "Xstar[missing_id,5] = clf.predict(Xstar[missing_id, :5].reshape((-1,5)))"
      ],
      "metadata": {
        "id": "iHzs6KY1TMae"
      },
      "execution_count": 67,
      "outputs": []
    },
    {
      "cell_type": "code",
      "source": [
        "Xstar[:3]"
      ],
      "metadata": {
        "colab": {
          "base_uri": "https://localhost:8080/"
        },
        "id": "CTfx6rCrT0qi",
        "outputId": "34d60872-e2c0-4e48-e42a-058c61b56fe9"
      },
      "execution_count": 68,
      "outputs": [
        {
          "output_type": "execute_result",
          "data": {
            "text/plain": [
              "array([[24.,  2.,  3.,  3.,  1.,  1.,  2., nan,  0.],\n",
              "       [45.,  1.,  3., 10.,  1.,  1., nan,  4.,  0.],\n",
              "       [43.,  2.,  3.,  7.,  1.,  1.,  3., nan, nan]], dtype=float32)"
            ]
          },
          "metadata": {},
          "execution_count": 68
        }
      ]
    },
    {
      "cell_type": "code",
      "source": [
        "ymiss = Xstar[:,5].flatten()\n",
        "non_missing_id = np.where(~np.isnan(ymiss))\n",
        "missing_id = np.where(np.isnan(ymiss))\n",
        "Xinp = Xstar[non_missing_id,:5].reshape((-1,5))\n",
        "clf = LogisticRegression(random_state=0).fit(Xinp, Xstar[non_missing_id,5].flatten())\n",
        "Xstar[missing_id,5] = clf.predict(Xstar[missing_id, :5].reshape((-1,5)))"
      ],
      "metadata": {
        "id": "HzIHxjHcVV01"
      },
      "execution_count": null,
      "outputs": []
    },
    {
      "cell_type": "code",
      "source": [
        "Xstar = generate_nan(X, missing_rate=.3)\n",
        "Xstar[:3]"
      ],
      "metadata": {
        "id": "3t7Mk4VniRF_",
        "outputId": "818a9751-ff79-4f80-f073-07a98cb4e61b",
        "colab": {
          "base_uri": "https://localhost:8080/"
        }
      },
      "execution_count": 71,
      "outputs": [
        {
          "output_type": "execute_result",
          "data": {
            "text/plain": [
              "array([[nan, nan,  3.,  3.,  1.,  1.,  2.,  3.,  0.],\n",
              "       [45.,  1.,  3., 10.,  1.,  1.,  3., nan,  0.],\n",
              "       [43., nan, nan, nan,  1.,  1.,  3.,  4.,  0.]], dtype=float32)"
            ]
          },
          "metadata": {},
          "execution_count": 71
        }
      ]
    },
    {
      "cell_type": "markdown",
      "source": [
        "## Iterative Imputer in sklearn"
      ],
      "metadata": {
        "id": "vOcW4UXSj7AQ"
      }
    },
    {
      "cell_type": "code",
      "source": [
        "from sklearn.experimental import enable_iterative_imputer\n",
        "from sklearn.impute import IterativeImputer\n",
        "\n",
        "imputer = IterativeImputer(estimator=LogisticRegression(),max_iter=10)\n",
        "X = imputer.fit_transform(Xstar)"
      ],
      "metadata": {
        "id": "iKeUsUPKiJYy"
      },
      "execution_count": null,
      "outputs": []
    },
    {
      "cell_type": "code",
      "source": [
        "X[:3]"
      ],
      "metadata": {
        "id": "GLUsy1BXjunB",
        "outputId": "91a95491-e338-460a-aa89-d6021f7f63e9",
        "colab": {
          "base_uri": "https://localhost:8080/"
        }
      },
      "execution_count": 79,
      "outputs": [
        {
          "output_type": "execute_result",
          "data": {
            "text/plain": [
              "array([[25.,  3.,  3.,  3.,  1.,  1.,  2.,  3.,  0.],\n",
              "       [45.,  1.,  3., 10.,  1.,  1.,  3.,  3.,  0.],\n",
              "       [43.,  3.,  4.,  4.,  1.,  1.,  3.,  4.,  0.]], dtype=float32)"
            ]
          },
          "metadata": {},
          "execution_count": 79
        }
      ]
    },
    {
      "cell_type": "markdown",
      "metadata": {
        "id": "M9zc3M-_HsIV"
      },
      "source": [
        "# Heart"
      ]
    },
    {
      "cell_type": "code",
      "source": [
        "data = pd.read_table('https://archive.ics.uci.edu/ml/machine-learning-databases/spect/SPECTF.train', header = None,sep=',')\n",
        "test = pd.read_table('https://archive.ics.uci.edu/ml/machine-learning-databases/spect/SPECTF.test',\n",
        "                     header=None, sep = ',')\n",
        "data = pd.concat([data, test])\n",
        "data.head()"
      ],
      "metadata": {
        "colab": {
          "base_uri": "https://localhost:8080/",
          "height": 236
        },
        "id": "qlr4kkvRKzZj",
        "outputId": "52d92a0c-364e-4360-85cb-84d73467f230"
      },
      "execution_count": 3,
      "outputs": [
        {
          "output_type": "execute_result",
          "data": {
            "text/plain": [
              "   0   1   2   3   4   5   6   7   8   9   ...  35  36  37  38  39  40  41  \\\n",
              "0   1  59  52  70  67  73  66  72  61  58  ...  66  56  62  56  72  62  74   \n",
              "1   1  72  62  69  67  78  82  74  65  69  ...  65  71  63  60  69  73  67   \n",
              "2   1  71  62  70  64  67  64  79  65  70  ...  73  70  66  65  64  55  61   \n",
              "3   1  69  71  70  78  61  63  67  65  59  ...  61  61  66  65  72  73  68   \n",
              "4   1  70  66  61  66  61  58  69  69  72  ...  67  69  70  66  70  64  60   \n",
              "\n",
              "   42  43  44  \n",
              "0  74  64  67  \n",
              "1  71  56  58  \n",
              "2  41  51  46  \n",
              "3  68  59  63  \n",
              "4  55  49  41  \n",
              "\n",
              "[5 rows x 45 columns]"
            ],
            "text/html": [
              "\n",
              "  <div id=\"df-bb651ec1-b6ca-4dbd-a99c-33758067176a\">\n",
              "    <div class=\"colab-df-container\">\n",
              "      <div>\n",
              "<style scoped>\n",
              "    .dataframe tbody tr th:only-of-type {\n",
              "        vertical-align: middle;\n",
              "    }\n",
              "\n",
              "    .dataframe tbody tr th {\n",
              "        vertical-align: top;\n",
              "    }\n",
              "\n",
              "    .dataframe thead th {\n",
              "        text-align: right;\n",
              "    }\n",
              "</style>\n",
              "<table border=\"1\" class=\"dataframe\">\n",
              "  <thead>\n",
              "    <tr style=\"text-align: right;\">\n",
              "      <th></th>\n",
              "      <th>0</th>\n",
              "      <th>1</th>\n",
              "      <th>2</th>\n",
              "      <th>3</th>\n",
              "      <th>4</th>\n",
              "      <th>5</th>\n",
              "      <th>6</th>\n",
              "      <th>7</th>\n",
              "      <th>8</th>\n",
              "      <th>9</th>\n",
              "      <th>...</th>\n",
              "      <th>35</th>\n",
              "      <th>36</th>\n",
              "      <th>37</th>\n",
              "      <th>38</th>\n",
              "      <th>39</th>\n",
              "      <th>40</th>\n",
              "      <th>41</th>\n",
              "      <th>42</th>\n",
              "      <th>43</th>\n",
              "      <th>44</th>\n",
              "    </tr>\n",
              "  </thead>\n",
              "  <tbody>\n",
              "    <tr>\n",
              "      <th>0</th>\n",
              "      <td>1</td>\n",
              "      <td>59</td>\n",
              "      <td>52</td>\n",
              "      <td>70</td>\n",
              "      <td>67</td>\n",
              "      <td>73</td>\n",
              "      <td>66</td>\n",
              "      <td>72</td>\n",
              "      <td>61</td>\n",
              "      <td>58</td>\n",
              "      <td>...</td>\n",
              "      <td>66</td>\n",
              "      <td>56</td>\n",
              "      <td>62</td>\n",
              "      <td>56</td>\n",
              "      <td>72</td>\n",
              "      <td>62</td>\n",
              "      <td>74</td>\n",
              "      <td>74</td>\n",
              "      <td>64</td>\n",
              "      <td>67</td>\n",
              "    </tr>\n",
              "    <tr>\n",
              "      <th>1</th>\n",
              "      <td>1</td>\n",
              "      <td>72</td>\n",
              "      <td>62</td>\n",
              "      <td>69</td>\n",
              "      <td>67</td>\n",
              "      <td>78</td>\n",
              "      <td>82</td>\n",
              "      <td>74</td>\n",
              "      <td>65</td>\n",
              "      <td>69</td>\n",
              "      <td>...</td>\n",
              "      <td>65</td>\n",
              "      <td>71</td>\n",
              "      <td>63</td>\n",
              "      <td>60</td>\n",
              "      <td>69</td>\n",
              "      <td>73</td>\n",
              "      <td>67</td>\n",
              "      <td>71</td>\n",
              "      <td>56</td>\n",
              "      <td>58</td>\n",
              "    </tr>\n",
              "    <tr>\n",
              "      <th>2</th>\n",
              "      <td>1</td>\n",
              "      <td>71</td>\n",
              "      <td>62</td>\n",
              "      <td>70</td>\n",
              "      <td>64</td>\n",
              "      <td>67</td>\n",
              "      <td>64</td>\n",
              "      <td>79</td>\n",
              "      <td>65</td>\n",
              "      <td>70</td>\n",
              "      <td>...</td>\n",
              "      <td>73</td>\n",
              "      <td>70</td>\n",
              "      <td>66</td>\n",
              "      <td>65</td>\n",
              "      <td>64</td>\n",
              "      <td>55</td>\n",
              "      <td>61</td>\n",
              "      <td>41</td>\n",
              "      <td>51</td>\n",
              "      <td>46</td>\n",
              "    </tr>\n",
              "    <tr>\n",
              "      <th>3</th>\n",
              "      <td>1</td>\n",
              "      <td>69</td>\n",
              "      <td>71</td>\n",
              "      <td>70</td>\n",
              "      <td>78</td>\n",
              "      <td>61</td>\n",
              "      <td>63</td>\n",
              "      <td>67</td>\n",
              "      <td>65</td>\n",
              "      <td>59</td>\n",
              "      <td>...</td>\n",
              "      <td>61</td>\n",
              "      <td>61</td>\n",
              "      <td>66</td>\n",
              "      <td>65</td>\n",
              "      <td>72</td>\n",
              "      <td>73</td>\n",
              "      <td>68</td>\n",
              "      <td>68</td>\n",
              "      <td>59</td>\n",
              "      <td>63</td>\n",
              "    </tr>\n",
              "    <tr>\n",
              "      <th>4</th>\n",
              "      <td>1</td>\n",
              "      <td>70</td>\n",
              "      <td>66</td>\n",
              "      <td>61</td>\n",
              "      <td>66</td>\n",
              "      <td>61</td>\n",
              "      <td>58</td>\n",
              "      <td>69</td>\n",
              "      <td>69</td>\n",
              "      <td>72</td>\n",
              "      <td>...</td>\n",
              "      <td>67</td>\n",
              "      <td>69</td>\n",
              "      <td>70</td>\n",
              "      <td>66</td>\n",
              "      <td>70</td>\n",
              "      <td>64</td>\n",
              "      <td>60</td>\n",
              "      <td>55</td>\n",
              "      <td>49</td>\n",
              "      <td>41</td>\n",
              "    </tr>\n",
              "  </tbody>\n",
              "</table>\n",
              "<p>5 rows × 45 columns</p>\n",
              "</div>\n",
              "      <button class=\"colab-df-convert\" onclick=\"convertToInteractive('df-bb651ec1-b6ca-4dbd-a99c-33758067176a')\"\n",
              "              title=\"Convert this dataframe to an interactive table.\"\n",
              "              style=\"display:none;\">\n",
              "        \n",
              "  <svg xmlns=\"http://www.w3.org/2000/svg\" height=\"24px\"viewBox=\"0 0 24 24\"\n",
              "       width=\"24px\">\n",
              "    <path d=\"M0 0h24v24H0V0z\" fill=\"none\"/>\n",
              "    <path d=\"M18.56 5.44l.94 2.06.94-2.06 2.06-.94-2.06-.94-.94-2.06-.94 2.06-2.06.94zm-11 1L8.5 8.5l.94-2.06 2.06-.94-2.06-.94L8.5 2.5l-.94 2.06-2.06.94zm10 10l.94 2.06.94-2.06 2.06-.94-2.06-.94-.94-2.06-.94 2.06-2.06.94z\"/><path d=\"M17.41 7.96l-1.37-1.37c-.4-.4-.92-.59-1.43-.59-.52 0-1.04.2-1.43.59L10.3 9.45l-7.72 7.72c-.78.78-.78 2.05 0 2.83L4 21.41c.39.39.9.59 1.41.59.51 0 1.02-.2 1.41-.59l7.78-7.78 2.81-2.81c.8-.78.8-2.07 0-2.86zM5.41 20L4 18.59l7.72-7.72 1.47 1.35L5.41 20z\"/>\n",
              "  </svg>\n",
              "      </button>\n",
              "      \n",
              "  <style>\n",
              "    .colab-df-container {\n",
              "      display:flex;\n",
              "      flex-wrap:wrap;\n",
              "      gap: 12px;\n",
              "    }\n",
              "\n",
              "    .colab-df-convert {\n",
              "      background-color: #E8F0FE;\n",
              "      border: none;\n",
              "      border-radius: 50%;\n",
              "      cursor: pointer;\n",
              "      display: none;\n",
              "      fill: #1967D2;\n",
              "      height: 32px;\n",
              "      padding: 0 0 0 0;\n",
              "      width: 32px;\n",
              "    }\n",
              "\n",
              "    .colab-df-convert:hover {\n",
              "      background-color: #E2EBFA;\n",
              "      box-shadow: 0px 1px 2px rgba(60, 64, 67, 0.3), 0px 1px 3px 1px rgba(60, 64, 67, 0.15);\n",
              "      fill: #174EA6;\n",
              "    }\n",
              "\n",
              "    [theme=dark] .colab-df-convert {\n",
              "      background-color: #3B4455;\n",
              "      fill: #D2E3FC;\n",
              "    }\n",
              "\n",
              "    [theme=dark] .colab-df-convert:hover {\n",
              "      background-color: #434B5C;\n",
              "      box-shadow: 0px 1px 3px 1px rgba(0, 0, 0, 0.15);\n",
              "      filter: drop-shadow(0px 1px 2px rgba(0, 0, 0, 0.3));\n",
              "      fill: #FFFFFF;\n",
              "    }\n",
              "  </style>\n",
              "\n",
              "      <script>\n",
              "        const buttonEl =\n",
              "          document.querySelector('#df-bb651ec1-b6ca-4dbd-a99c-33758067176a button.colab-df-convert');\n",
              "        buttonEl.style.display =\n",
              "          google.colab.kernel.accessAllowed ? 'block' : 'none';\n",
              "\n",
              "        async function convertToInteractive(key) {\n",
              "          const element = document.querySelector('#df-bb651ec1-b6ca-4dbd-a99c-33758067176a');\n",
              "          const dataTable =\n",
              "            await google.colab.kernel.invokeFunction('convertToInteractive',\n",
              "                                                     [key], {});\n",
              "          if (!dataTable) return;\n",
              "\n",
              "          const docLinkHtml = 'Like what you see? Visit the ' +\n",
              "            '<a target=\"_blank\" href=https://colab.research.google.com/notebooks/data_table.ipynb>data table notebook</a>'\n",
              "            + ' to learn more about interactive tables.';\n",
              "          element.innerHTML = '';\n",
              "          dataTable['output_type'] = 'display_data';\n",
              "          await google.colab.output.renderOutput(dataTable, element);\n",
              "          const docLink = document.createElement('div');\n",
              "          docLink.innerHTML = docLinkHtml;\n",
              "          element.appendChild(docLink);\n",
              "        }\n",
              "      </script>\n",
              "    </div>\n",
              "  </div>\n",
              "  "
            ]
          },
          "metadata": {},
          "execution_count": 3
        }
      ]
    },
    {
      "cell_type": "code",
      "metadata": {
        "colab": {
          "base_uri": "https://localhost:8080/"
        },
        "id": "JQicwSA1HtmL",
        "outputId": "87dcdd9a-9242-4abb-8f12-111c01b5d3ad"
      },
      "source": [
        "data = data.to_numpy()\n",
        "X,y = data[:,1:], data[:,0]\n",
        "X = X.astype(np.float32)\n",
        "G = len(np.unique(y)) \n",
        "print(np.shape(X))\n",
        "for g in range(G):\n",
        "  print(sum(y==g))"
      ],
      "execution_count": null,
      "outputs": [
        {
          "output_type": "stream",
          "name": "stdout",
          "text": [
            "(267, 44)\n",
            "55\n",
            "212\n"
          ]
        }
      ]
    },
    {
      "cell_type": "code",
      "source": [
        "Xstar = generate_nan(X, 0.2)\n",
        "Xstar[:3]"
      ],
      "metadata": {
        "colab": {
          "base_uri": "https://localhost:8080/"
        },
        "id": "OU6s1qOGRaU8",
        "outputId": "21d63990-a5da-444f-a1d2-ad44e3ce90ec"
      },
      "execution_count": null,
      "outputs": [
        {
          "output_type": "execute_result",
          "data": {
            "text/plain": [
              "array([[59., 52., 70., nan, 73., 66., 72., 61., 58., 52., 72., 71., 70.,\n",
              "        77., 66., 65., 67., 55., 61., 57., 68., 66., 72., 74., 63., 64.,\n",
              "        56., 54., 67., 54., 76., 74., 65., nan, 66., 56., 62., 56., 72.,\n",
              "        62., 74., 74., nan, 67.],\n",
              "       [72., 62., 69., 67., 78., 82., 74., 65., 69., 63., 70., 70., 72.,\n",
              "        74., 70., 71., 72., 75., 66., 65., 73., 78., 74., nan, 74., 69.,\n",
              "        69., 70., 71., 69., 72., nan, 62., nan, 65., 71., 63., 60., 69.,\n",
              "        73., 67., 71., nan, 58.],\n",
              "       [nan, 62., 70., 64., 67., 64., 79., 65., 70., nan, 72., 71., 68.,\n",
              "        nan, 61., 61., 73., 71., 75., 74., 80., 74., 54., 47., 53., 37.,\n",
              "        77., 68., 72., 59., 72., 68., nan, 60., 73., nan, 66., 65., 64.,\n",
              "        nan, nan, nan, nan, 46.]], dtype=float32)"
            ]
          },
          "metadata": {},
          "execution_count": 35
        }
      ]
    }
  ]
}