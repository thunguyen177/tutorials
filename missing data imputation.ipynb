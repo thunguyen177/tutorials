{
  "nbformat": 4,
  "nbformat_minor": 0,
  "metadata": {
    "colab": {
      "name": "tutorial missing data imputation.ipynb",
      "provenance": [],
      "collapsed_sections": [],
      "include_colab_link": true
    },
    "kernelspec": {
      "display_name": "Python 3",
      "language": "python",
      "name": "python3"
    },
    "language_info": {
      "codemirror_mode": {
        "name": "ipython",
        "version": 3
      },
      "file_extension": ".py",
      "mimetype": "text/x-python",
      "name": "python",
      "nbconvert_exporter": "python",
      "pygments_lexer": "ipython3",
      "version": "3.8.3"
    }
  },
  "cells": [
    {
      "cell_type": "markdown",
      "metadata": {
        "id": "view-in-github",
        "colab_type": "text"
      },
      "source": [
        "<a href=\"https://colab.research.google.com/github/thunguyen177/tutorials/blob/main/missing%20data%20imputation.ipynb\" target=\"_parent\"><img src=\"https://colab.research.google.com/assets/colab-badge.svg\" alt=\"Open In Colab\"/></a>"
      ]
    },
    {
      "cell_type": "markdown",
      "metadata": {
        "id": "01Q1wGI3uIdg"
      },
      "source": [
        "## libraries and function \n"
      ]
    },
    {
      "cell_type": "code",
      "metadata": {
        "id": "iEdO9dJPION8"
      },
      "source": [
        "# !pip install impyute\n",
        "from sklearn import datasets\n",
        "from sklearn.preprocessing import LabelEncoder, StandardScaler\n",
        "from sklearn.experimental import enable_iterative_imputer\n",
        "from sklearn.impute import IterativeImputer\n",
        "from scipy import stats\n",
        "import numpy as np\n",
        "# import impyute as impy\n",
        "from fancyimpute import IterativeSVD, SoftImpute, NuclearNormMinimization\n",
        "import pandas as pd\n",
        "import time"
      ],
      "execution_count": 33,
      "outputs": []
    },
    {
      "cell_type": "code",
      "source": [
        "Xstar = np.array([[168, 30, 200],[200, 45, 300], [180, 90, np.nan], [129, 70, np.nan]])\n",
        "Xstar"
      ],
      "metadata": {
        "colab": {
          "base_uri": "https://localhost:8080/"
        },
        "id": "dSe_PX-rMw-D",
        "outputId": "7640b321-7b8a-4e02-fd4d-05349638cf07"
      },
      "execution_count": 6,
      "outputs": [
        {
          "output_type": "execute_result",
          "data": {
            "text/plain": [
              "array([[168.,  30., 200.],\n",
              "       [200.,  45., 300.],\n",
              "       [180.,  90.,  nan],\n",
              "       [129.,  70.,  nan]])"
            ]
          },
          "metadata": {},
          "execution_count": 6
        }
      ]
    },
    {
      "cell_type": "code",
      "source": [
        "import numpy as np\n",
        "from sklearn.impute import SimpleImputer\n",
        "\n",
        "imputer = SimpleImputer(missing_values=np.nan, strategy='mean')\n",
        "imputer.fit(Xstar)\n",
        "print(imputer.transform(Xstar))"
      ],
      "metadata": {
        "colab": {
          "base_uri": "https://localhost:8080/"
        },
        "id": "evPQ5OUAQvzj",
        "outputId": "c0e3d10d-e400-4458-e53b-f7b30e58e6c2"
      },
      "execution_count": 25,
      "outputs": [
        {
          "output_type": "stream",
          "name": "stdout",
          "text": [
            "[[168.  30. 200.]\n",
            " [200.  45. 300.]\n",
            " [180.  90. 250.]\n",
            " [129.  70. 250.]]\n"
          ]
        }
      ]
    },
    {
      "cell_type": "code",
      "source": [
        "imputer = SimpleImputer(missing_values=np.nan, strategy='mean')\n",
        "imputer.fit_transform(Xstar)"
      ],
      "metadata": {
        "colab": {
          "base_uri": "https://localhost:8080/"
        },
        "id": "DZ3uS4myQ9Oi",
        "outputId": "8a8b6b3d-6133-4c05-a4d9-34f3c3fe6cdc"
      },
      "execution_count": 26,
      "outputs": [
        {
          "output_type": "execute_result",
          "data": {
            "text/plain": [
              "array([[168.,  30., 200.],\n",
              "       [200.,  45., 300.],\n",
              "       [180.,  90., 250.],\n",
              "       [129.,  70., 250.]])"
            ]
          },
          "metadata": {},
          "execution_count": 26
        }
      ]
    },
    {
      "cell_type": "code",
      "source": [
        "imputer = SimpleImputer(missing_values=np.nan, strategy='median')\n",
        "imputer.fit_transform(Xstar)"
      ],
      "metadata": {
        "colab": {
          "base_uri": "https://localhost:8080/"
        },
        "id": "xWgBYloQREWP",
        "outputId": "3ec9cb58-e055-4194-e70c-bb43c5ecf136"
      },
      "execution_count": 28,
      "outputs": [
        {
          "output_type": "execute_result",
          "data": {
            "text/plain": [
              "array([[168.,  30., 200.],\n",
              "       [200.,  45., 300.],\n",
              "       [180.,  90., 250.],\n",
              "       [129.,  70., 250.]])"
            ]
          },
          "metadata": {},
          "execution_count": 28
        }
      ]
    },
    {
      "cell_type": "code",
      "source": [
        "imputer = SimpleImputer(missing_values=np.nan, strategy='most_frequent')\n",
        "imputer.fit_transform(Xstar)"
      ],
      "metadata": {
        "colab": {
          "base_uri": "https://localhost:8080/"
        },
        "id": "JCErDO5vRLte",
        "outputId": "745decac-d7c5-4577-e50f-424590cdda21"
      },
      "execution_count": 30,
      "outputs": [
        {
          "output_type": "execute_result",
          "data": {
            "text/plain": [
              "array([[168.,  30., 200.],\n",
              "       [200.,  45., 300.],\n",
              "       [180.,  90., 200.],\n",
              "       [129.,  70., 200.]])"
            ]
          },
          "metadata": {},
          "execution_count": 30
        }
      ]
    },
    {
      "cell_type": "code",
      "source": [
        "!pip install fancyimpute\n",
        "from fancyimpute import KNN, NuclearNormMinimization, SoftImpute, BiScaler "
      ],
      "metadata": {
        "id": "YSw4D8rnNGG1"
      },
      "execution_count": 3,
      "outputs": []
    },
    {
      "cell_type": "code",
      "source": [
        "X = KNN(k=1).fit_transform(Xstar)\n",
        "print(X,'\\n\\n',Xstar)"
      ],
      "metadata": {
        "colab": {
          "base_uri": "https://localhost:8080/"
        },
        "id": "HStUZJjVNPZa",
        "outputId": "50aae4c4-51a5-403d-e9de-9444d0e69e74"
      },
      "execution_count": 8,
      "outputs": [
        {
          "output_type": "stream",
          "name": "stdout",
          "text": [
            "Imputing row 1/4 with 0 missing, elapsed time: 0.001\n",
            "[[168.  30. 200.]\n",
            " [200.  45. 300.]\n",
            " [180.  90. 300.]\n",
            " [129.  70. 200.]] \n",
            "\n",
            " [[168.  30. 200.]\n",
            " [200.  45. 300.]\n",
            " [180.  90.  nan]\n",
            " [129.  70.  nan]]\n"
          ]
        }
      ]
    },
    {
      "cell_type": "code",
      "source": [
        "# induce sparsity using singular value thresholding\n",
        "X_incomplete_normalized = BiScaler().fit_transform(Xstar)\n",
        "X = SoftImpute().fit_transform(X_incomplete_normalized)\n",
        "print(X,'\\n\\n',X_incomplete_normalized)"
      ],
      "metadata": {
        "id": "4LlBzlQBhad7",
        "colab": {
          "base_uri": "https://localhost:8080/"
        },
        "outputId": "b18aa252-d2d4-4169-c7e6-73a8b40af820"
      },
      "execution_count": 11,
      "outputs": [
        {
          "output_type": "stream",
          "name": "stdout",
          "text": [
            "[BiScaler] Initial log residual value = 12.065274\n",
            "[BiScaler] Iter 1: log residual = -2.899786, log improvement ratio=14.965060\n",
            "[BiScaler] Iter 2: log residual = -4.226582, log improvement ratio=1.326796\n",
            "[BiScaler] Iter 3: log residual = -4.788862, log improvement ratio=0.562280\n",
            "[BiScaler] Iter 4: log residual = -4.943716, log improvement ratio=0.154854\n",
            "[BiScaler] Iter 5: log residual = -5.003397, log improvement ratio=0.059680\n",
            "[BiScaler] Iter 6: log residual = -5.019292, log improvement ratio=0.015896\n",
            "[BiScaler] Iter 7: log residual = -5.021997, log improvement ratio=0.002705\n",
            "[BiScaler] Iter 8: log residual = -5.019859, log improvement ratio=-0.002139\n",
            "[SoftImpute] Max Singular Value of X_init = 2.663978\n",
            "[SoftImpute] Iter 1: observed MAE=0.021302 rank=2\n",
            "[SoftImpute] Iter 2: observed MAE=0.021302 rank=2\n",
            "[SoftImpute] Iter 3: observed MAE=0.021302 rank=2\n",
            "[SoftImpute] Iter 4: observed MAE=0.021302 rank=2\n",
            "[SoftImpute] Iter 5: observed MAE=0.021302 rank=2\n",
            "[SoftImpute] Iter 6: observed MAE=0.021302 rank=2\n",
            "[SoftImpute] Iter 7: observed MAE=0.021302 rank=2\n",
            "[SoftImpute] Iter 8: observed MAE=0.021302 rank=2\n",
            "[SoftImpute] Iter 9: observed MAE=0.021302 rank=2\n",
            "[SoftImpute] Iter 10: observed MAE=0.021302 rank=2\n",
            "[SoftImpute] Iter 11: observed MAE=0.021302 rank=2\n",
            "[SoftImpute] Iter 12: observed MAE=0.021302 rank=2\n",
            "[SoftImpute] Iter 13: observed MAE=0.021302 rank=2\n",
            "[SoftImpute] Iter 14: observed MAE=0.021302 rank=2\n",
            "[SoftImpute] Iter 15: observed MAE=0.021302 rank=2\n",
            "[SoftImpute] Iter 16: observed MAE=0.021302 rank=2\n",
            "[SoftImpute] Stopped after iteration 16 for lambda=0.053280\n",
            "[[ 1.36787129e+00 -4.21574305e-01 -9.95834370e-01]\n",
            " [ 4.09493875e-01 -1.36393813e+00  1.00414835e+00]\n",
            " [-9.89736595e-01  9.90965859e-01 -1.01891138e-03]\n",
            " [-9.90789777e-01  9.89916438e-01  9.82403355e-04]] \n",
            "\n",
            " [[ 1.36787129 -0.42157431 -0.99583437]\n",
            " [ 0.40949388 -1.36393813  1.00414835]\n",
            " [-0.98973659  0.99096586         nan]\n",
            " [-0.99078978  0.98991644         nan]]\n"
          ]
        }
      ]
    },
    {
      "cell_type": "code",
      "metadata": {
        "id": "uMQE45kTe5pB",
        "colab": {
          "base_uri": "https://localhost:8080/"
        },
        "outputId": "57e08059-abb3-412d-d9a1-079595e4825b"
      },
      "source": [
        "# induce sparsity using singular value thresholding\n",
        "X = SoftImpute(verbose = False).fit_transform(Xstar)\n",
        "print(X,'\\n\\n',Xstar)"
      ],
      "execution_count": 14,
      "outputs": [
        {
          "output_type": "stream",
          "name": "stdout",
          "text": [
            "[[168.          30.         200.        ]\n",
            " [200.          45.         300.        ]\n",
            " [180.          90.         134.17830118]\n",
            " [129.          70.          90.70721687]] \n",
            "\n",
            " [[168.  30. 200.]\n",
            " [200.  45. 300.]\n",
            " [180.  90.  nan]\n",
            " [129.  70.  nan]]\n"
          ]
        }
      ]
    },
    {
      "cell_type": "code",
      "source": [
        "!pip install missingpy\n",
        "# if ModuleNotFoundError: No module named 'sklearn.neighbors.base', use the following 3 lines\n",
        "import sys\n",
        "import sklearn.neighbors._base\n",
        "sys.modules['sklearn.neighbors.base'] = sklearn.neighbors._base\n",
        "\n",
        "from missingpy import MissForest\n",
        "# note that MissForest uses sklearn.__version__ 0.22.2.post1\n"
      ],
      "metadata": {
        "colab": {
          "base_uri": "https://localhost:8080/"
        },
        "id": "KYKVcpuCNvgX",
        "outputId": "6cc0f454-06f6-4074-c7ae-c920d82d1856"
      },
      "execution_count": 20,
      "outputs": [
        {
          "output_type": "stream",
          "name": "stdout",
          "text": [
            "Looking in indexes: https://pypi.org/simple, https://us-python.pkg.dev/colab-wheels/public/simple/\n",
            "Requirement already satisfied: missingpy in /usr/local/lib/python3.7/dist-packages (0.2.0)\n"
          ]
        }
      ]
    },
    {
      "cell_type": "code",
      "source": [
        "X = MissForest(random_state=0).fit_transform(Xstar)\n",
        "print(X,'\\n\\n',Xstar)\n"
      ],
      "metadata": {
        "colab": {
          "base_uri": "https://localhost:8080/"
        },
        "id": "H8ENZCtHOh_g",
        "outputId": "8c32c006-0a28-4139-813b-5282ec5d68cf"
      },
      "execution_count": 22,
      "outputs": [
        {
          "output_type": "stream",
          "name": "stderr",
          "text": [
            "/usr/local/lib/python3.7/dist-packages/sklearn/ensemble/_forest.py:400: FutureWarning: Criterion 'mse' was deprecated in v1.0 and will be removed in version 1.2. Use `criterion='squared_error'` which is equivalent.\n",
            "  FutureWarning,\n"
          ]
        },
        {
          "output_type": "stream",
          "name": "stdout",
          "text": [
            "Iteration: 0\n"
          ]
        },
        {
          "output_type": "stream",
          "name": "stderr",
          "text": [
            "/usr/local/lib/python3.7/dist-packages/sklearn/ensemble/_forest.py:400: FutureWarning: Criterion 'mse' was deprecated in v1.0 and will be removed in version 1.2. Use `criterion='squared_error'` which is equivalent.\n",
            "  FutureWarning,\n"
          ]
        },
        {
          "output_type": "stream",
          "name": "stdout",
          "text": [
            "Iteration: 1\n",
            "[[168.  30. 200.]\n",
            " [200.  45. 300.]\n",
            " [180.  90. 250.]\n",
            " [129.  70. 250.]] \n",
            "\n",
            " [[168.  30. 200.]\n",
            " [200.  45. 300.]\n",
            " [180.  90.  nan]\n",
            " [129.  70.  nan]]\n"
          ]
        }
      ]
    },
    {
      "cell_type": "code",
      "source": [
        "imputer = MissForest(random_state=0)\n",
        "imputer.fit(Xstar)\n",
        "X = imputer.transform(Xstar)\n",
        "print(X,'\\n\\n',Xstar)"
      ],
      "metadata": {
        "colab": {
          "base_uri": "https://localhost:8080/"
        },
        "id": "Z-wCXC6zP5kb",
        "outputId": "2a68e66f-820b-40f5-fe02-8d2c8452f999"
      },
      "execution_count": 23,
      "outputs": [
        {
          "output_type": "stream",
          "name": "stderr",
          "text": [
            "/usr/local/lib/python3.7/dist-packages/sklearn/ensemble/_forest.py:400: FutureWarning: Criterion 'mse' was deprecated in v1.0 and will be removed in version 1.2. Use `criterion='squared_error'` which is equivalent.\n",
            "  FutureWarning,\n"
          ]
        },
        {
          "output_type": "stream",
          "name": "stdout",
          "text": [
            "Iteration: 0\n"
          ]
        },
        {
          "output_type": "stream",
          "name": "stderr",
          "text": [
            "/usr/local/lib/python3.7/dist-packages/sklearn/ensemble/_forest.py:400: FutureWarning: Criterion 'mse' was deprecated in v1.0 and will be removed in version 1.2. Use `criterion='squared_error'` which is equivalent.\n",
            "  FutureWarning,\n"
          ]
        },
        {
          "output_type": "stream",
          "name": "stdout",
          "text": [
            "Iteration: 1\n",
            "[[168.  30. 200.]\n",
            " [200.  45. 300.]\n",
            " [180.  90. 250.]\n",
            " [129.  70. 250.]] \n",
            "\n",
            " [[168.  30. 200.]\n",
            " [200.  45. 300.]\n",
            " [180.  90.  nan]\n",
            " [129.  70.  nan]]\n"
          ]
        }
      ]
    },
    {
      "cell_type": "markdown",
      "metadata": {
        "id": "M9zc3M-_HsIV"
      },
      "source": [
        "# Heart"
      ]
    },
    {
      "cell_type": "code",
      "metadata": {
        "colab": {
          "base_uri": "https://localhost:8080/"
        },
        "id": "JQicwSA1HtmL",
        "outputId": "87dcdd9a-9242-4abb-8f12-111c01b5d3ad"
      },
      "source": [
        "data = pd.read_table('https://archive.ics.uci.edu/ml/machine-learning-databases/spect/SPECTF.train', header = None,sep=',')\n",
        "test = pd.read_table('https://archive.ics.uci.edu/ml/machine-learning-databases/spect/SPECTF.test',\n",
        "                     header=None, sep = ',')\n",
        "data = pd.concat([data, test])\n",
        "data = data.to_numpy()\n",
        "X,y = data[:,1:], data[:,0]\n",
        "X = X.astype(np.float32)\n",
        "G = len(np.unique(y)) \n",
        "print(np.shape(X))\n",
        "for g in range(G):\n",
        "  print(sum(y==g))"
      ],
      "execution_count": 31,
      "outputs": [
        {
          "output_type": "stream",
          "name": "stdout",
          "text": [
            "(267, 44)\n",
            "55\n",
            "212\n"
          ]
        }
      ]
    },
    {
      "cell_type": "code",
      "source": [
        "def generate_nan(Xtrain, missing_rate):\n",
        "  Xshape = Xtrain.shape\n",
        "  na_id = np.random.randint(0,Xtrain.size,round(missing_rate*Xtrain.size))\n",
        "  Xtr_nan = Xtrain.flatten()\n",
        "  Xtr_nan[na_id] = np.nan \n",
        "  return Xtr_nan.reshape(Xshape)"
      ],
      "metadata": {
        "id": "xA8FrzJ8RkvR"
      },
      "execution_count": null,
      "outputs": []
    },
    {
      "cell_type": "code",
      "source": [
        "Xstar = generate_nan(X, 0.2)\n",
        "Xstar[:3]"
      ],
      "metadata": {
        "colab": {
          "base_uri": "https://localhost:8080/"
        },
        "id": "OU6s1qOGRaU8",
        "outputId": "21d63990-a5da-444f-a1d2-ad44e3ce90ec"
      },
      "execution_count": 35,
      "outputs": [
        {
          "output_type": "execute_result",
          "data": {
            "text/plain": [
              "array([[59., 52., 70., nan, 73., 66., 72., 61., 58., 52., 72., 71., 70.,\n",
              "        77., 66., 65., 67., 55., 61., 57., 68., 66., 72., 74., 63., 64.,\n",
              "        56., 54., 67., 54., 76., 74., 65., nan, 66., 56., 62., 56., 72.,\n",
              "        62., 74., 74., nan, 67.],\n",
              "       [72., 62., 69., 67., 78., 82., 74., 65., 69., 63., 70., 70., 72.,\n",
              "        74., 70., 71., 72., 75., 66., 65., 73., 78., 74., nan, 74., 69.,\n",
              "        69., 70., 71., 69., 72., nan, 62., nan, 65., 71., 63., 60., 69.,\n",
              "        73., 67., 71., nan, 58.],\n",
              "       [nan, 62., 70., 64., 67., 64., 79., 65., 70., nan, 72., 71., 68.,\n",
              "        nan, 61., 61., 73., 71., 75., 74., 80., 74., 54., 47., 53., 37.,\n",
              "        77., 68., 72., 59., 72., 68., nan, 60., 73., nan, 66., 65., 64.,\n",
              "        nan, nan, nan, nan, 46.]], dtype=float32)"
            ]
          },
          "metadata": {},
          "execution_count": 35
        }
      ]
    },
    {
      "cell_type": "markdown",
      "metadata": {
        "id": "VGqInaaIIOOx"
      },
      "source": [
        "# seeds "
      ]
    },
    {
      "cell_type": "code",
      "metadata": {
        "id": "_klPa7GkW_5V"
      },
      "source": [
        "data = pd.read_table('https://archive.ics.uci.edu/ml/machine-learning-databases/00236/seeds_dataset.txt',\n",
        "                     sep = '\\s+', header = None)\n",
        "data = pd.DataFrame.to_numpy(data)\n",
        "X,y = data[:,:7], data[:,7]-1 # reset the labels to go start from 0  "
      ],
      "execution_count": null,
      "outputs": []
    }
  ]
}