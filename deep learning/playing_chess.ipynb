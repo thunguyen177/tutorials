{
  "nbformat": 4,
  "nbformat_minor": 0,
  "metadata": {
    "colab": {
      "provenance": [],
      "authorship_tag": "ABX9TyM4Q0Tz6+f9I4n4yk0bGxaA",
      "include_colab_link": true
    },
    "kernelspec": {
      "name": "python3",
      "display_name": "Python 3"
    },
    "language_info": {
      "name": "python"
    }
  },
  "cells": [
    {
      "cell_type": "markdown",
      "metadata": {
        "id": "view-in-github",
        "colab_type": "text"
      },
      "source": [
        "<a href=\"https://colab.research.google.com/github/thunguyen177/tutorials/blob/deep-learning/playing_chess.ipynb\" target=\"_parent\"><img src=\"https://colab.research.google.com/assets/colab-badge.svg\" alt=\"Open In Colab\"/></a>"
      ]
    },
    {
      "cell_type": "code",
      "execution_count": 1,
      "metadata": {
        "colab": {
          "base_uri": "https://localhost:8080/"
        },
        "id": "SWrRyR8M64y5",
        "outputId": "492d282f-f00a-4f7d-eb66-c42272cb3851"
      },
      "outputs": [
        {
          "output_type": "stream",
          "name": "stdout",
          "text": [
            "Collecting chess\n",
            "  Downloading chess-1.11.1.tar.gz (156 kB)\n",
            "\u001b[?25l     \u001b[90m━━━━━━━━━━━━━━━━━━━━━━━━━━━━━━━━━━━━━━━━\u001b[0m \u001b[32m0.0/156.5 kB\u001b[0m \u001b[31m?\u001b[0m eta \u001b[36m-:--:--\u001b[0m\r\u001b[2K     \u001b[90m━━━━━━━━━━━━━━━━━━━━━━━━━━━━━━━━━━━━━━━━\u001b[0m \u001b[32m156.5/156.5 kB\u001b[0m \u001b[31m7.4 MB/s\u001b[0m eta \u001b[36m0:00:00\u001b[0m\n",
            "\u001b[?25h  Preparing metadata (setup.py) ... \u001b[?25l\u001b[?25hdone\n",
            "Building wheels for collected packages: chess\n",
            "  Building wheel for chess (setup.py) ... \u001b[?25l\u001b[?25hdone\n",
            "  Created wheel for chess: filename=chess-1.11.1-py3-none-any.whl size=148497 sha256=987c9645f37af59988f3295ebf3cfdd0af3673ee187d1570dd2587f64383bf26\n",
            "  Stored in directory: /root/.cache/pip/wheels/2e/2d/23/1bfc95db984ed3ecbf6764167dc7526d0ab521cf9a9852544e\n",
            "Successfully built chess\n",
            "Installing collected packages: chess\n",
            "Successfully installed chess-1.11.1\n"
          ]
        }
      ],
      "source": [
        "!pip install chess"
      ]
    },
    {
      "cell_type": "code",
      "source": [
        "#!pip install chess\n",
        "import chess\n",
        "import chess.engine\n",
        "\n",
        "# Initialize board\n",
        "board = chess.Board()\n",
        "\n",
        "# Piece values\n",
        "piece_value = {\n",
        "    chess.PAWN: 1,\n",
        "    chess.KNIGHT: 3,\n",
        "    chess.BISHOP: 3,\n",
        "    chess.ROOK: 5,\n",
        "    chess.QUEEN: 9,\n",
        "    chess.KING: 0  # The king's value is not used for evaluation\n",
        "}\n",
        "\n",
        "# Simple Minimax evaluation\n",
        "def evaluate_board(board):\n",
        "    return sum([piece_value.get(piece.piece_type, 0) for piece in board.piece_map().values()])\n",
        "\n",
        "# Generate and evaluate moves\n",
        "def minimax(board, depth, maximizing_player):\n",
        "    if depth == 0 or board.is_game_over():\n",
        "        return evaluate_board(board)\n",
        "\n",
        "    if maximizing_player:\n",
        "        max_eval = float('-inf')\n",
        "        for move in board.legal_moves:\n",
        "            board.push(move)\n",
        "            eval = minimax(board, depth-1, False)\n",
        "            board.pop()\n",
        "            max_eval = max(max_eval, eval)\n",
        "        return max_eval\n",
        "    else:\n",
        "        min_eval = float('inf')\n",
        "        for move in board.legal_moves:\n",
        "            board.push(move)\n",
        "            eval = minimax(board, depth-1, True)\n",
        "            board.pop()\n",
        "            min_eval = min(min_eval, eval)\n",
        "        return min_eval\n",
        "\n",
        "# Example usage\n",
        "print(\"Current board:\\n\", board)\n",
        "print(\"Best evaluation:\", minimax(board, 3, True))\n"
      ],
      "metadata": {
        "colab": {
          "base_uri": "https://localhost:8080/"
        },
        "id": "SP0D6ZDX66uk",
        "outputId": "a0f46285-d349-4b68-b259-bf0dfe7c5cf6"
      },
      "execution_count": 5,
      "outputs": [
        {
          "output_type": "stream",
          "name": "stdout",
          "text": [
            "Current board:\n",
            " r n b q k b n r\n",
            "p p p p p p p p\n",
            ". . . . . . . .\n",
            ". . . . . . . .\n",
            ". . . . . . . .\n",
            ". . . . . . . .\n",
            "P P P P P P P P\n",
            "R N B Q K B N R\n",
            "Best evaluation: 78\n"
          ]
        }
      ]
    },
    {
      "cell_type": "code",
      "source": [],
      "metadata": {
        "id": "VMqnBp--7KXl"
      },
      "execution_count": null,
      "outputs": []
    }
  ]
}